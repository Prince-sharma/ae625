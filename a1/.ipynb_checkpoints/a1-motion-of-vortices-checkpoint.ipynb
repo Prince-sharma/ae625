{
 "cells": [
  {
   "cell_type": "code",
   "execution_count": 48,
   "metadata": {},
   "outputs": [],
   "source": [
    "import numpy as np\n",
    "import matplotlib.pyplot as plt\n",
    "%matplotlib inline"
   ]
  },
  {
   "cell_type": "code",
   "execution_count": 49,
   "metadata": {},
   "outputs": [],
   "source": [
    "def velocity(z1,z0,gamma):\n",
    "    \"\"\"\n",
    "    parameters:\n",
    "    \n",
    "    z0 : position of the vortex\n",
    "    z1 : complex point where velocity is to be calculated\n",
    "    gamma : strength of the vortex placed at z0\n",
    "    \n",
    "    Returns:\n",
    "    vel : velocity at point z1 due to the vortex placed at z0\n",
    "    \"\"\"\n",
    "    \n",
    "    phi = (-gamma/(2*np.pi*(z1 - z0 )))*complex(0,1)\n",
    "    \n",
    "    u = phi.real\n",
    "    v = (-1)*phi.imag\n",
    "    \n",
    "    return u , v\n",
    "    "
   ]
  },
  {
   "cell_type": "code",
   "execution_count": 50,
   "metadata": {},
   "outputs": [
    {
     "data": {
      "text/plain": [
       "(-0.0, 0.15915494309189535)"
      ]
     },
     "execution_count": 50,
     "metadata": {},
     "output_type": "execute_result"
    }
   ],
   "source": [
    "# sanity check \n",
    "# for z0 = 0 , z1 = 1 \n",
    "# u = 0 , v ~ 0.159 (using pi = 3.14)\n",
    "gamma = 1\n",
    "z0 = 0 +0j\n",
    "z1 = 1 +0j\n",
    "\n",
    "velocity(z1,z0,gamma)"
   ]
  },
  {
   "cell_type": "code",
   "execution_count": 51,
   "metadata": {},
   "outputs": [],
   "source": [
    "def euler_update( x , v , dt):\n",
    "    return x + v*dt"
   ]
  },
  {
   "cell_type": "code",
   "execution_count": 53,
   "metadata": {},
   "outputs": [
    {
     "data": {
      "text/plain": [
       "(1.5+1.5j)"
      ]
     },
     "execution_count": 53,
     "metadata": {},
     "output_type": "execute_result"
    }
   ],
   "source": [
    "# sanity check \n",
    "# out = 1.5 + 1.5j\n",
    "euler_update(0.5 + 0.5j,1 + 1j,1)"
   ]
  },
  {
   "cell_type": "code",
   "execution_count": 6,
   "metadata": {},
   "outputs": [
    {
     "ename": "SyntaxError",
     "evalue": "invalid syntax (<ipython-input-6-008d931c60c5>, line 9)",
     "output_type": "error",
     "traceback": [
      "\u001b[0;36m  File \u001b[0;32m\"<ipython-input-6-008d931c60c5>\"\u001b[0;36m, line \u001b[0;32m9\u001b[0m\n\u001b[0;31m    vel1 =\u001b[0m\n\u001b[0m           ^\u001b[0m\n\u001b[0;31mSyntaxError\u001b[0m\u001b[0;31m:\u001b[0m invalid syntax\n"
     ]
    }
   ],
   "source": [
    "def simulate_2vortex(z1 , z2 , gammas, dt , num_iter):\n",
    "    num_vortex = 2\n",
    "    path = np.zeros(num_iter,num_vortex,2)\n",
    "    \n",
    "    for t in range(num_iter):\n",
    "        for i,vortex in enumerate(z0,z1):\n",
    "            path[t,i,0] = vortex.real\n",
    "            path[t,i,1] = vortex.imag\n",
    "            vel1 = \n",
    "            \n",
    "        "
   ]
  },
  {
   "cell_type": "code",
   "execution_count": 54,
   "metadata": {},
   "outputs": [
    {
     "name": "stdout",
     "output_type": "stream",
     "text": [
      "101 101\n",
      "(0.5207415414760543+0.05478632859393378j) (-0.5207415414760543-0.05478632859393378j)\n"
     ]
    }
   ],
   "source": [
    "path1 = []\n",
    "path2 = []\n",
    "\n",
    "z1 = -0.5 + 0j\n",
    "z2 = 0.5 + 0j\n",
    "\n",
    "path1.append(z1)\n",
    "path2.append(z2)\n",
    "\n",
    "gamma1 = 1\n",
    "gamma2 = 1\n",
    "\n",
    "dt = 0.1\n",
    "num_iter = 100\n",
    "\n",
    "for t in range(num_iter):\n",
    "    \n",
    "    u1 , v1 = velocity(z2,z1,gamma2)\n",
    "    u2 , v2 = velocity(z1,z2,gamma1)\n",
    "    \n",
    "    z1 = euler_update(z1,complex(u1,v1),dt)\n",
    "    z2 = euler_update(z2,complex(u2,v2),dt)\n",
    "    \n",
    "    path1.append(z1)\n",
    "    path2.append(z2)\n",
    "    \n",
    "\n",
    "print(len(path1),len(path2))\n",
    "print(path1[-1],path2[-1])"
   ]
  },
  {
   "cell_type": "code",
   "execution_count": 55,
   "metadata": {},
   "outputs": [
    {
     "data": {
      "image/png": "[encoded data removed]",
      "text/plain": [
       "<Figure size 432x288 with 1 Axes>"
      ]
     },
     "metadata": {
      "needs_background": "light"
     },
     "output_type": "display_data"
    }
   ],
   "source": [
    "plt.plot(np.array(path1[:]).real,np.array(path1[:]).imag)\n",
    "plt.plot(np.array(path2[:]).real,np.array(path2[:]).imag)\n",
    "plt.show()"
   ]
  },
  {
   "cell_type": "code",
   "execution_count": 106,
   "metadata": {},
   "outputs": [],
   "source": [
    "def net_velocity(vortex, vortexs, gammas):\n",
    "    u = 0\n",
    "    v = 0\n",
    "    idx =  np.array([ i for i in range(len(vortex))])\n",
    "    try:\n",
    "        curr_idx = np.where(vortexs==vortex)[0][0]\n",
    "        idx = np.delete(idx,curr_idx)\n",
    "    except:\n",
    "        curr_idx = np.where(vortexs==vortex)[0][0]\n",
    "        for i in idx:\n",
    "            if curr_idx != i :\n",
    "                u_temp , v_temp  = velocity(vortex,z0,gammas[i])\n",
    "                u = u + u_temp\n",
    "                v = v + v_temp\n",
    "    return complex(u , v)\n"
   ]
  },
  {
   "cell_type": "code",
   "execution_count": 107,
   "metadata": {},
   "outputs": [],
   "source": [
    "def rk2_update(x,u1,u2,dt):\n",
    "    return x + 0.5*(u1 + u2)*dt\n",
    "    "
   ]
  },
  {
   "cell_type": "code",
   "execution_count": 133,
   "metadata": {},
   "outputs": [],
   "source": [
    "def simulate(vortexs , gammas , num_iter , dt , mode=\"euler\" ):\n",
    "    num_vortex = len(vortexs)\n",
    "    path = np.zeros((num_iter,num_vortex),dtype=complex)\n",
    "    path[0,:] = vortexs.copy()\n",
    "    \n",
    "    if mode == \"euler\":\n",
    "        for t in range(num_iter):\n",
    "            vel = np.zeros(num_vortex,dtype=complex)\n",
    "            for i,vortex in enumerate(vortexs):\n",
    "                vel[i] = net_velocity(vortex,vortexs,gammas)\n",
    "            vortexs = euler_update(vortexs,vel,dt)\n",
    "            path[t,:] = vortexs.copy()\n",
    "        \n",
    "        return path\n",
    "        \n",
    "    elif mode == \"rk2\":\n",
    "        for t in range(num_iter):\n",
    "            u1 =  np.zeros(num_vortex,dtype=complex)\n",
    "            u2 = np.zeros(num_vortex,dtype=complex)\n",
    "            for i,vortex in enumerate(vortexs):\n",
    "                u1[i] = net_velocity(vortex,vortexs,gammas)\n",
    "                vortex_temp = euler_update(vortex,u1[i],dt)\n",
    "                u2[i] = net_velocity(vortex_temp,vortexs,gammas)\n",
    "            vortexs = rk2_update(vortexs,u1,u2,dt)\n",
    "            path[t,:] = vortexs.copy()\n",
    "            \n",
    "        return path"
   ]
  },
  {
   "cell_type": "code",
   "execution_count": 134,
   "metadata": {},
   "outputs": [],
   "source": [
    "def plot(path):\n",
    "    plt.plot(path[:,:].real,path[:,:].imag)"
   ]
  },
  {
   "cell_type": "code",
   "execution_count": 135,
   "metadata": {},
   "outputs": [
    {
     "ename": "IndexError",
     "evalue": "index 0 is out of bounds for axis 0 with size 0",
     "output_type": "error",
     "traceback": [
      "\u001b[0;31m---------------------------------------------------------------------------\u001b[0m",
      "\u001b[0;31mIndexError\u001b[0m                                Traceback (most recent call last)",
      "\u001b[0;32m<ipython-input-135-e2646a283f33>\u001b[0m in \u001b[0;36m<module>\u001b[0;34m\u001b[0m\n\u001b[1;32m      4\u001b[0m \u001b[0mdt\u001b[0m \u001b[0;34m=\u001b[0m \u001b[0;36m0.1\u001b[0m\u001b[0;34m\u001b[0m\u001b[0;34m\u001b[0m\u001b[0m\n\u001b[1;32m      5\u001b[0m \u001b[0;34m\u001b[0m\u001b[0m\n\u001b[0;32m----> 6\u001b[0;31m \u001b[0mpath\u001b[0m \u001b[0;34m=\u001b[0m \u001b[0msimulate\u001b[0m\u001b[0;34m(\u001b[0m\u001b[0mvortexs\u001b[0m \u001b[0;34m,\u001b[0m \u001b[0mgammas\u001b[0m \u001b[0;34m,\u001b[0m \u001b[0mnum_iter\u001b[0m \u001b[0;34m,\u001b[0m \u001b[0mdt\u001b[0m\u001b[0;34m,\u001b[0m \u001b[0mmode\u001b[0m\u001b[0;34m=\u001b[0m\u001b[0;34m\"rk2\"\u001b[0m\u001b[0;34m)\u001b[0m\u001b[0;34m\u001b[0m\u001b[0;34m\u001b[0m\u001b[0m\n\u001b[0m\u001b[1;32m      7\u001b[0m \u001b[0;34m\u001b[0m\u001b[0m\n\u001b[1;32m      8\u001b[0m \u001b[0mplot\u001b[0m\u001b[0;34m(\u001b[0m\u001b[0mpath\u001b[0m\u001b[0;34m)\u001b[0m\u001b[0;34m\u001b[0m\u001b[0;34m\u001b[0m\u001b[0m\n",
      "\u001b[0;32m<ipython-input-133-bcb8bf29f464>\u001b[0m in \u001b[0;36msimulate\u001b[0;34m(vortexs, gammas, num_iter, dt, mode)\u001b[0m\n\u001b[1;32m     21\u001b[0m                 \u001b[0mu1\u001b[0m\u001b[0;34m[\u001b[0m\u001b[0mi\u001b[0m\u001b[0;34m]\u001b[0m \u001b[0;34m=\u001b[0m \u001b[0mnet_velocity\u001b[0m\u001b[0;34m(\u001b[0m\u001b[0mvortex\u001b[0m\u001b[0;34m,\u001b[0m\u001b[0mvortexs\u001b[0m\u001b[0;34m,\u001b[0m\u001b[0mgammas\u001b[0m\u001b[0;34m)\u001b[0m\u001b[0;34m\u001b[0m\u001b[0;34m\u001b[0m\u001b[0m\n\u001b[1;32m     22\u001b[0m                 \u001b[0mvortex_temp\u001b[0m \u001b[0;34m=\u001b[0m \u001b[0meuler_update\u001b[0m\u001b[0;34m(\u001b[0m\u001b[0mvortex\u001b[0m\u001b[0;34m,\u001b[0m\u001b[0mu1\u001b[0m\u001b[0;34m[\u001b[0m\u001b[0mi\u001b[0m\u001b[0;34m]\u001b[0m\u001b[0;34m,\u001b[0m\u001b[0mdt\u001b[0m\u001b[0;34m)\u001b[0m\u001b[0;34m\u001b[0m\u001b[0;34m\u001b[0m\u001b[0m\n\u001b[0;32m---> 23\u001b[0;31m                 \u001b[0mu2\u001b[0m\u001b[0;34m[\u001b[0m\u001b[0mi\u001b[0m\u001b[0;34m]\u001b[0m \u001b[0;34m=\u001b[0m \u001b[0mnet_velocity\u001b[0m\u001b[0;34m(\u001b[0m\u001b[0mvortex_temp\u001b[0m\u001b[0;34m,\u001b[0m\u001b[0mvortexs\u001b[0m\u001b[0;34m,\u001b[0m\u001b[0mgammas\u001b[0m\u001b[0;34m)\u001b[0m\u001b[0;34m\u001b[0m\u001b[0;34m\u001b[0m\u001b[0m\n\u001b[0m\u001b[1;32m     24\u001b[0m             \u001b[0mvortexs\u001b[0m \u001b[0;34m=\u001b[0m \u001b[0mrk2_update\u001b[0m\u001b[0;34m(\u001b[0m\u001b[0mvortexs\u001b[0m\u001b[0;34m,\u001b[0m\u001b[0mu1\u001b[0m\u001b[0;34m,\u001b[0m\u001b[0mu2\u001b[0m\u001b[0;34m,\u001b[0m\u001b[0mdt\u001b[0m\u001b[0;34m)\u001b[0m\u001b[0;34m\u001b[0m\u001b[0;34m\u001b[0m\u001b[0m\n\u001b[1;32m     25\u001b[0m             \u001b[0mpath\u001b[0m\u001b[0;34m[\u001b[0m\u001b[0mt\u001b[0m\u001b[0;34m,\u001b[0m\u001b[0;34m:\u001b[0m\u001b[0;34m]\u001b[0m \u001b[0;34m=\u001b[0m \u001b[0mvortecs\u001b[0m\u001b[0;34m.\u001b[0m\u001b[0mcopy\u001b[0m\u001b[0;34m(\u001b[0m\u001b[0;34m)\u001b[0m\u001b[0;34m\u001b[0m\u001b[0;34m\u001b[0m\u001b[0m\n",
      "\u001b[0;32m<ipython-input-106-c5080186b33e>\u001b[0m in \u001b[0;36mnet_velocity\u001b[0;34m(vortex, vortexs, gammas)\u001b[0m\n\u001b[1;32m      2\u001b[0m     \u001b[0mu\u001b[0m \u001b[0;34m=\u001b[0m \u001b[0;36m0\u001b[0m\u001b[0;34m\u001b[0m\u001b[0;34m\u001b[0m\u001b[0m\n\u001b[1;32m      3\u001b[0m     \u001b[0mv\u001b[0m \u001b[0;34m=\u001b[0m \u001b[0;36m0\u001b[0m\u001b[0;34m\u001b[0m\u001b[0;34m\u001b[0m\u001b[0m\n\u001b[0;32m----> 4\u001b[0;31m     \u001b[0mcurr_idx\u001b[0m \u001b[0;34m=\u001b[0m \u001b[0mnp\u001b[0m\u001b[0;34m.\u001b[0m\u001b[0mwhere\u001b[0m\u001b[0;34m(\u001b[0m\u001b[0mvortexs\u001b[0m\u001b[0;34m==\u001b[0m\u001b[0mvortex\u001b[0m\u001b[0;34m)\u001b[0m\u001b[0;34m[\u001b[0m\u001b[0;36m0\u001b[0m\u001b[0;34m]\u001b[0m\u001b[0;34m[\u001b[0m\u001b[0;36m0\u001b[0m\u001b[0;34m]\u001b[0m\u001b[0;34m\u001b[0m\u001b[0;34m\u001b[0m\u001b[0m\n\u001b[0m\u001b[1;32m      5\u001b[0m     \u001b[0;32mfor\u001b[0m \u001b[0mi\u001b[0m\u001b[0;34m,\u001b[0m\u001b[0mz0\u001b[0m \u001b[0;32min\u001b[0m \u001b[0menumerate\u001b[0m\u001b[0;34m(\u001b[0m\u001b[0mvortexs\u001b[0m\u001b[0;34m)\u001b[0m\u001b[0;34m:\u001b[0m\u001b[0;34m\u001b[0m\u001b[0;34m\u001b[0m\u001b[0m\n\u001b[1;32m      6\u001b[0m         \u001b[0;32mif\u001b[0m \u001b[0mcurr_idx\u001b[0m \u001b[0;34m!=\u001b[0m \u001b[0mi\u001b[0m \u001b[0;34m:\u001b[0m\u001b[0;34m\u001b[0m\u001b[0;34m\u001b[0m\u001b[0m\n",
      "\u001b[0;31mIndexError\u001b[0m: index 0 is out of bounds for axis 0 with size 0"
     ]
    }
   ],
   "source": [
    "vortexs = np.array([-0.5 + 0j , +0.5 + 0j])\n",
    "gammas = np.array([1,1])\n",
    "num_iter = 500\n",
    "dt = 0.1\n",
    "\n",
    "path = simulate(vortexs , gammas , num_iter , dt, mode=\"rk2\")\n",
    "\n",
    "plot(path)"
   ]
  },
  {
   "cell_type": "code",
   "execution_count": 110,
   "metadata": {},
   "outputs": [
    {
     "name": "stdout",
     "output_type": "stream",
     "text": [
      "(array([1]),)\n"
     ]
    }
   ],
   "source": [
    "vortexs = (-0.5 + 0j , +0.5 + 0j,0+2j,2,3,4,5,6)\n",
    "vortexs = np.array(vortexs)\n",
    "z0 = 0.5 + 0j\n",
    "v = np.where(vortexs==z0)\n",
    "\n",
    "print(v)"
   ]
  },
  {
   "cell_type": "code",
   "execution_count": 75,
   "metadata": {},
   "outputs": [
    {
     "data": {
      "text/plain": [
       "array([[2.+2.j, 2.+2.j, 2.+2.j],\n",
       "       [2.+2.j, 2.+2.j, 2.+2.j],\n",
       "       [2.+2.j, 2.+2.j, 2.+2.j]])"
      ]
     },
     "execution_count": 75,
     "metadata": {},
     "output_type": "execute_result"
    }
   ],
   "source": [
    "z = np.ones((3,3),dtype=complex) + 1j\n",
    "z*2"
   ]
  },
  {
   "cell_type": "code",
   "execution_count": 136,
   "metadata": {},
   "outputs": [
    {
     "ename": "AttributeError",
     "evalue": "'numpy.ndarray' object has no attribute 'pop'",
     "output_type": "error",
     "traceback": [
      "\u001b[0;31m---------------------------------------------------------------------------\u001b[0m",
      "\u001b[0;31mAttributeError\u001b[0m                            Traceback (most recent call last)",
      "\u001b[0;32m<ipython-input-136-9c700ef3f7b1>\u001b[0m in \u001b[0;36m<module>\u001b[0;34m\u001b[0m\n\u001b[1;32m      1\u001b[0m \u001b[0ma\u001b[0m \u001b[0;34m=\u001b[0m \u001b[0mnp\u001b[0m\u001b[0;34m.\u001b[0m\u001b[0mones\u001b[0m\u001b[0;34m(\u001b[0m\u001b[0;36m10\u001b[0m\u001b[0;34m)\u001b[0m\u001b[0;34m\u001b[0m\u001b[0;34m\u001b[0m\u001b[0m\n\u001b[0;32m----> 2\u001b[0;31m \u001b[0ma\u001b[0m\u001b[0;34m.\u001b[0m\u001b[0mpop\u001b[0m\u001b[0;34m(\u001b[0m\u001b[0;36m2\u001b[0m\u001b[0;34m)\u001b[0m\u001b[0;34m\u001b[0m\u001b[0;34m\u001b[0m\u001b[0m\n\u001b[0m\u001b[1;32m      3\u001b[0m \u001b[0ma\u001b[0m\u001b[0;34m\u001b[0m\u001b[0;34m\u001b[0m\u001b[0m\n",
      "\u001b[0;31mAttributeError\u001b[0m: 'numpy.ndarray' object has no attribute 'pop'"
     ]
    }
   ],
   "source": [
    "a = np.ones(10)\n",
    "a.pop(2)\n",
    "a"
   ]
  },
  {
   "cell_type": "code",
   "execution_count": null,
   "metadata": {},
   "outputs": [],
   "source": []
  }
 ],
 "metadata": {
  "kernelspec": {
   "display_name": "Python 3",
   "language": "python",
   "name": "python3"
  },
  "language_info": {
   "codemirror_mode": {
    "name": "ipython",
    "version": 3
   },
   "file_extension": ".py",
   "mimetype": "text/x-python",
   "name": "python",
   "nbconvert_exporter": "python",
   "pygments_lexer": "ipython3",
   "version": "3.6.9"
  }
 },
 "nbformat": 4,
 "nbformat_minor": 4
}
