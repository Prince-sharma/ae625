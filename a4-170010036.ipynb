{
 "cells": [
  {
   "cell_type": "markdown",
   "metadata": {},
   "source": [
    "PLease Run the notebook in order \n",
    "some variables names used several times"
   ]
  },
  {
   "cell_type": "markdown",
   "metadata": {},
   "source": [
    "# True Solution"
   ]
  },
  {
   "cell_type": "code",
   "execution_count": 3,
   "metadata": {},
   "outputs": [],
   "source": [
    "def problem_cylinder(number,R):\n",
    "    theta = np.linspace(0,2*np.pi,number)\n",
    "    tracer_positions = np.zeros(number, dtype = complex)\n",
    "    for i in range(number):\n",
    "        tracer_positions[i] = complex(R*np.cos(theta[i]),R*np.sin(theta[i]))\n",
    "    return tracer_positions\n",
    "\n",
    "    \n",
    "#def number of points at radius R outside the circle (points are tracer points)"
   ]
  },
  {
   "cell_type": "code",
   "execution_count": 4,
   "metadata": {},
   "outputs": [
    {
     "ename": "NameError",
     "evalue": "name 'np' is not defined",
     "output_type": "error",
     "traceback": [
      "\u001b[0;31m---------------------------------------------------------------------------\u001b[0m",
      "\u001b[0;31mNameError\u001b[0m                                 Traceback (most recent call last)",
      "\u001b[0;32m<ipython-input-4-321c37ccfe21>\u001b[0m in \u001b[0;36m<module>\u001b[0;34m\u001b[0m\n\u001b[0;32m----> 1\u001b[0;31m \u001b[0mtracer_positions\u001b[0m \u001b[0;34m=\u001b[0m \u001b[0mproblem_cylinder\u001b[0m\u001b[0;34m(\u001b[0m\u001b[0;36m200\u001b[0m\u001b[0;34m,\u001b[0m\u001b[0;36m2\u001b[0m\u001b[0;34m)\u001b[0m\u001b[0;34m\u001b[0m\u001b[0;34m\u001b[0m\u001b[0m\n\u001b[0m",
      "\u001b[0;32m<ipython-input-3-d9598f199efa>\u001b[0m in \u001b[0;36mproblem_cylinder\u001b[0;34m(number, R)\u001b[0m\n\u001b[1;32m      1\u001b[0m \u001b[0;32mdef\u001b[0m \u001b[0mproblem_cylinder\u001b[0m\u001b[0;34m(\u001b[0m\u001b[0mnumber\u001b[0m\u001b[0;34m,\u001b[0m\u001b[0mR\u001b[0m\u001b[0;34m)\u001b[0m\u001b[0;34m:\u001b[0m\u001b[0;34m\u001b[0m\u001b[0;34m\u001b[0m\u001b[0m\n\u001b[0;32m----> 2\u001b[0;31m     \u001b[0mtheta\u001b[0m \u001b[0;34m=\u001b[0m \u001b[0mnp\u001b[0m\u001b[0;34m.\u001b[0m\u001b[0mlinspace\u001b[0m\u001b[0;34m(\u001b[0m\u001b[0;36m0\u001b[0m\u001b[0;34m,\u001b[0m\u001b[0;36m2\u001b[0m\u001b[0;34m*\u001b[0m\u001b[0mnp\u001b[0m\u001b[0;34m.\u001b[0m\u001b[0mpi\u001b[0m\u001b[0;34m,\u001b[0m\u001b[0mnumber\u001b[0m\u001b[0;34m)\u001b[0m\u001b[0;34m\u001b[0m\u001b[0;34m\u001b[0m\u001b[0m\n\u001b[0m\u001b[1;32m      3\u001b[0m     \u001b[0mtracer_positions\u001b[0m \u001b[0;34m=\u001b[0m \u001b[0mnp\u001b[0m\u001b[0;34m.\u001b[0m\u001b[0mzeros\u001b[0m\u001b[0;34m(\u001b[0m\u001b[0mnumber\u001b[0m\u001b[0;34m,\u001b[0m \u001b[0mdtype\u001b[0m \u001b[0;34m=\u001b[0m \u001b[0mcomplex\u001b[0m\u001b[0;34m)\u001b[0m\u001b[0;34m\u001b[0m\u001b[0;34m\u001b[0m\u001b[0m\n\u001b[1;32m      4\u001b[0m     \u001b[0;32mfor\u001b[0m \u001b[0mi\u001b[0m \u001b[0;32min\u001b[0m \u001b[0mrange\u001b[0m\u001b[0;34m(\u001b[0m\u001b[0mnumber\u001b[0m\u001b[0;34m)\u001b[0m\u001b[0;34m:\u001b[0m\u001b[0;34m\u001b[0m\u001b[0;34m\u001b[0m\u001b[0m\n\u001b[1;32m      5\u001b[0m         \u001b[0mtracer_positions\u001b[0m\u001b[0;34m[\u001b[0m\u001b[0mi\u001b[0m\u001b[0;34m]\u001b[0m \u001b[0;34m=\u001b[0m \u001b[0mcomplex\u001b[0m\u001b[0;34m(\u001b[0m\u001b[0mR\u001b[0m\u001b[0;34m*\u001b[0m\u001b[0mnp\u001b[0m\u001b[0;34m.\u001b[0m\u001b[0mcos\u001b[0m\u001b[0;34m(\u001b[0m\u001b[0mtheta\u001b[0m\u001b[0;34m[\u001b[0m\u001b[0mi\u001b[0m\u001b[0;34m]\u001b[0m\u001b[0;34m)\u001b[0m\u001b[0;34m,\u001b[0m\u001b[0mR\u001b[0m\u001b[0;34m*\u001b[0m\u001b[0mnp\u001b[0m\u001b[0;34m.\u001b[0m\u001b[0msin\u001b[0m\u001b[0;34m(\u001b[0m\u001b[0mtheta\u001b[0m\u001b[0;34m[\u001b[0m\u001b[0mi\u001b[0m\u001b[0;34m]\u001b[0m\u001b[0;34m)\u001b[0m\u001b[0;34m)\u001b[0m\u001b[0;34m\u001b[0m\u001b[0;34m\u001b[0m\u001b[0m\n",
      "\u001b[0;31mNameError\u001b[0m: name 'np' is not defined"
     ]
    }
   ],
   "source": [
    "tracer_positions = problem_cylinder(200,2)"
   ]
  },
  {
   "cell_type": "code",
   "execution_count": 5,
   "metadata": {},
   "outputs": [],
   "source": [
    "def real_velocity(tracer_positions, v_inf,R):                                      #real solution\n",
    "    real_vel = np.zeros(len(tracer_positions), dtype = complex)\n",
    "    theta = np.linspace(0,2*np.pi,len(tracer_positions), False)\n",
    "    for count,i in enumerate(theta):\n",
    "        vx = (1-1/R**2)*v_inf*np.cos(i)**2 +(1+1/R**2)*v_inf*np.sin(i)**2\n",
    "        vy = ((1-1/R**2)*v_inf -(1+1/R**2)*v_inf)*(np.sin(i)*np.cos(i))\n",
    "        real_vel[count] = vx + 1j*vy\n",
    "    return real_vel\n",
    "        "
   ]
  },
  {
   "cell_type": "code",
   "execution_count": 6,
   "metadata": {},
   "outputs": [
    {
     "ename": "NameError",
     "evalue": "name 'tracer_positions' is not defined",
     "output_type": "error",
     "traceback": [
      "\u001b[0;31m---------------------------------------------------------------------------\u001b[0m",
      "\u001b[0;31mNameError\u001b[0m                                 Traceback (most recent call last)",
      "\u001b[0;32m<ipython-input-6-2fb231f44322>\u001b[0m in \u001b[0;36m<module>\u001b[0;34m\u001b[0m\n\u001b[0;32m----> 1\u001b[0;31m \u001b[0mreal_vel\u001b[0m \u001b[0;34m=\u001b[0m \u001b[0mreal_velocity\u001b[0m\u001b[0;34m(\u001b[0m\u001b[0mtracer_positions\u001b[0m\u001b[0;34m,\u001b[0m\u001b[0;36m1\u001b[0m\u001b[0;34m,\u001b[0m\u001b[0;36m2\u001b[0m\u001b[0;34m)\u001b[0m\u001b[0;34m\u001b[0m\u001b[0;34m\u001b[0m\u001b[0m\n\u001b[0m",
      "\u001b[0;31mNameError\u001b[0m: name 'tracer_positions' is not defined"
     ]
    }
   ],
   "source": [
    "real_vel = real_velocity(tracer_positions,1,2)"
   ]
  },
  {
   "cell_type": "code",
   "execution_count": null,
   "metadata": {},
   "outputs": [],
   "source": []
  },
  {
   "cell_type": "markdown",
   "metadata": {},
   "source": [
    "# Constant Intensity Panel"
   ]
  },
  {
   "cell_type": "code",
   "execution_count": 7,
   "metadata": {},
   "outputs": [],
   "source": [
    "import numpy as np\n",
    "import math\n",
    "import matplotlib.pyplot as plt \n",
    "import numba\n"
   ]
  },
  {
   "cell_type": "code",
   "execution_count": 8,
   "metadata": {},
   "outputs": [],
   "source": [
    "def cylinder_panels(panels, R):                                  #Def panels at radius R and NUmber  = panels\n",
    "    theta = np.linspace(0,2*math.pi,panels+1)\n",
    "    start_points = np.zeros(panels, dtype = complex)\n",
    "    end_points = np.zeros(panels, dtype = complex)\n",
    "    \n",
    "    start_points = np.cos(theta[:-1]) + 1j*np.sin(theta[:-1])\n",
    "    end_points = np.cos(theta[1:]) + 1j*np.sin(theta[1:])\n",
    "    return start_points, end_points\n"
   ]
  },
  {
   "cell_type": "code",
   "execution_count": 9,
   "metadata": {},
   "outputs": [],
   "source": [
    "start_points,  end_points = cylinder_panels(30,1)"
   ]
  },
  {
   "cell_type": "code",
   "execution_count": 10,
   "metadata": {},
   "outputs": [],
   "source": [
    "def dot(a,b):\n",
    "    return a.real*b.real + a.imag*b.imag"
   ]
  },
  {
   "cell_type": "code",
   "execution_count": 11,
   "metadata": {},
   "outputs": [
    {
     "ename": "NameError",
     "evalue": "name 'matrix_A' is not defined",
     "output_type": "error",
     "traceback": [
      "\u001b[0;31m---------------------------------------------------------------------------\u001b[0m",
      "\u001b[0;31mNameError\u001b[0m                                 Traceback (most recent call last)",
      "\u001b[0;32m<ipython-input-11-3e2000dfea7a>\u001b[0m in \u001b[0;36m<module>\u001b[0;34m\u001b[0m\n\u001b[0;32m----> 1\u001b[0;31m \u001b[0mA\u001b[0m \u001b[0;34m=\u001b[0m \u001b[0mmatrix_A\u001b[0m\u001b[0;34m(\u001b[0m\u001b[0mstart_points\u001b[0m\u001b[0;34m,\u001b[0m \u001b[0mend_points\u001b[0m\u001b[0;34m)\u001b[0m\u001b[0;34m\u001b[0m\u001b[0;34m\u001b[0m\u001b[0m\n\u001b[0m",
      "\u001b[0;31mNameError\u001b[0m: name 'matrix_A' is not defined"
     ]
    }
   ],
   "source": [
    "A = matrix_A(start_points, end_points)"
   ]
  },
  {
   "cell_type": "code",
   "execution_count": 12,
   "metadata": {},
   "outputs": [],
   "source": [
    "def matrix_A(start_points, end_points):                         #Calculation of matrix A\n",
    "    n=len(start_points)\n",
    "    A = np.zeros((n+1, n))\n",
    "    normal = np.zeros(n, dtype = complex)\n",
    "    normal = 1j*(start_points-end_points)/abs(start_points-end_points)\n",
    "    for i in range(n):\n",
    "        control_point = (start_points[i]+end_points[i])/2\n",
    "        for j in range(n):\n",
    "            if i!=j:\n",
    "                panel_vector = end_points[j] -  start_points[j]\n",
    "                length = abs(panel_vector)\n",
    "                relative_vector = control_point - start_points[j]\n",
    "                angle_panel = np.angle(panel_vector)\n",
    "                conjugate_panel = (np.cos(angle_panel) - 1j*np.sin(angle_panel))\n",
    "                relative_vector_at_angle = relative_vector*conjugate_panel\n",
    "                velocity_mag = 1j*((np.log(1-length/relative_vector_at_angle))/(2*np.pi))\n",
    "                velocity = (velocity_mag.conjugate())*(np.cos(angle_panel) + 1j*np.sin(angle_panel))\n",
    "                A[i][j] = dot(normal[i], velocity)\n",
    "    A[n]=1\n",
    "    return A\n"
   ]
  },
  {
   "cell_type": "code",
   "execution_count": 13,
   "metadata": {},
   "outputs": [],
   "source": [
    "def velocity_dueto_vortices(control_point, gammas, positions):              #velocity due to vortices present in flow\n",
    "    velocity_due_vortices = (0+1j*0)\n",
    "    for i in range(len(gammas)):\n",
    "        z_relative = control_point - positions[i]\n",
    "        v_conjugate = complex(0,-1)*(gammas[i])/(2*(np.pi)*(z_relative))\n",
    "        velocity  = v_conjugate.conjugate()\n",
    "        velocity_due_vortices += velocity\n",
    "        return velocity_due_vortices\n",
    "        \n",
    "        "
   ]
  },
  {
   "cell_type": "code",
   "execution_count": 14,
   "metadata": {},
   "outputs": [],
   "source": [
    "def matrix_b(start_points, end_points,velocity_body=complex(0), gammas=0, positions=0, v_inf=0):\n",
    "    n = len(start_points)\n",
    "    v=np.zeros(n, dtype = complex)\n",
    "    normal=np.zeros(n, dtype = complex)\n",
    "    normal = 1j*(start_points-end_points)/abs(start_points-end_points)\n",
    "    for i in range(n):\n",
    "        control_point = (start_points[i]+end_points[i])/2\n",
    "        if gammas !=0:\n",
    "            velocity_due_vortices = velocity_dueto_vortices(control_point,gammas,positions)\n",
    "        else:\n",
    "            velocity_due_vortices = 0\n",
    "        v[i] = velocity_body - (v_inf+1j*0) - velocity_due_vortices\n",
    "        b = dot(v,normal)\n",
    "    b= np.append(b,0)\n",
    "    return b\n",
    "\n",
    "#mateix b calculation, take start points, end_points, Velocity of bofy, gammas of vortices present in flow\n",
    "#positions of vortices , velocity of free streams\n",
    "    "
   ]
  },
  {
   "cell_type": "code",
   "execution_count": null,
   "metadata": {},
   "outputs": [],
   "source": []
  },
  {
   "cell_type": "code",
   "execution_count": 15,
   "metadata": {},
   "outputs": [],
   "source": [
    "b = matrix_b(start_points, end_points, v_inf = 1)"
   ]
  },
  {
   "cell_type": "code",
   "execution_count": 16,
   "metadata": {},
   "outputs": [],
   "source": [
    "def solve(A,b):\n",
    "        ans = np.linalg.lstsq(A, b, rcond=None)[0]\n",
    "        return ans"
   ]
  },
  {
   "cell_type": "code",
   "execution_count": 17,
   "metadata": {},
   "outputs": [
    {
     "ename": "NameError",
     "evalue": "name 'A' is not defined",
     "output_type": "error",
     "traceback": [
      "\u001b[0;31m---------------------------------------------------------------------------\u001b[0m",
      "\u001b[0;31mNameError\u001b[0m                                 Traceback (most recent call last)",
      "\u001b[0;32m<ipython-input-17-f2097bb8fe47>\u001b[0m in \u001b[0;36m<module>\u001b[0;34m\u001b[0m\n\u001b[0;32m----> 1\u001b[0;31m \u001b[0mcirculations\u001b[0m \u001b[0;34m=\u001b[0m \u001b[0msolve\u001b[0m\u001b[0;34m(\u001b[0m\u001b[0mA\u001b[0m\u001b[0;34m,\u001b[0m\u001b[0mb\u001b[0m\u001b[0;34m)\u001b[0m\u001b[0;34m\u001b[0m\u001b[0;34m\u001b[0m\u001b[0m\n\u001b[0m",
      "\u001b[0;31mNameError\u001b[0m: name 'A' is not defined"
     ]
    }
   ],
   "source": [
    "circulations = solve(A,b)"
   ]
  },
  {
   "cell_type": "code",
   "execution_count": null,
   "metadata": {},
   "outputs": [],
   "source": []
  },
  {
   "cell_type": "code",
   "execution_count": 18,
   "metadata": {},
   "outputs": [],
   "source": [
    "def problem_cylinder(number,R):\n",
    "    theta = np.linspace(0,2*np.pi,number)\n",
    "    tracer_positions = np.zeros(number, dtype = complex)\n",
    "    for i in range(number):\n",
    "        tracer_positions[i] = complex(R*np.cos(theta[i]),R*np.sin(theta[i]))\n",
    "    return tracer_positions\n",
    "    \n",
    "#def number of points at radius R outside the circle (points are tracer points)"
   ]
  },
  {
   "cell_type": "code",
   "execution_count": 19,
   "metadata": {},
   "outputs": [],
   "source": [
    "tracer_positions = problem_cylinder(200,2)"
   ]
  },
  {
   "cell_type": "code",
   "execution_count": 20,
   "metadata": {},
   "outputs": [],
   "source": [
    "@numba.njit\n",
    "def velocity_tracer(tracer_position, start_point, end_point, circulation):\n",
    "    panel_vector = end_point - start_point\n",
    "    length = abs(panel_vector)\n",
    "    relative_vector = tracer_position - start_point\n",
    "    angle_panel = panel_vector/length\n",
    "    conjugate_panel = angle_panel.conjugate()\n",
    "    relative_vector_at_angle = relative_vector*conjugate_panel\n",
    "    velocity_mag = (1j*circulation*(np.log((relative_vector_at_angle-length)/relative_vector_at_angle)))/(2*np.pi)\n",
    "    velocity = (velocity_mag.conjugate())*angle_panel\n",
    "    return velocity\n",
    "\n",
    "#velocity of Particles present outside the cylinder due to one panel"
   ]
  },
  {
   "cell_type": "code",
   "execution_count": 21,
   "metadata": {},
   "outputs": [],
   "source": [
    "@numba.njit\n",
    "def total_velocity_tracer(tracer_positions, start_points, end_points, circulations,v,v_inf=0):\n",
    "    for i in range(len(tracer_positions)):\n",
    "        for j in range(len(start_points)):\n",
    "            v[i]+=velocity_tracer(tracer_positions[i],start_points[j], end_points[j], circulations[j])\n",
    "        v[i]+= (v_inf + 1j*0)\n",
    "    return v\n",
    "            \n",
    "#velocity of all particles due to all panels and free stream"
   ]
  },
  {
   "cell_type": "code",
   "execution_count": 22,
   "metadata": {},
   "outputs": [
    {
     "ename": "NameError",
     "evalue": "name 'circulations' is not defined",
     "output_type": "error",
     "traceback": [
      "\u001b[0;31m---------------------------------------------------------------------------\u001b[0m",
      "\u001b[0;31mNameError\u001b[0m                                 Traceback (most recent call last)",
      "\u001b[0;32m<ipython-input-22-4a341d3a2528>\u001b[0m in \u001b[0;36m<module>\u001b[0;34m\u001b[0m\n\u001b[1;32m      1\u001b[0m \u001b[0mv\u001b[0m\u001b[0;34m=\u001b[0m\u001b[0mnp\u001b[0m\u001b[0;34m.\u001b[0m\u001b[0mzeros\u001b[0m\u001b[0;34m(\u001b[0m\u001b[0mlen\u001b[0m\u001b[0;34m(\u001b[0m\u001b[0mtracer_positions\u001b[0m\u001b[0;34m)\u001b[0m\u001b[0;34m,\u001b[0m\u001b[0mdtype\u001b[0m \u001b[0;34m=\u001b[0m \u001b[0mcomplex\u001b[0m\u001b[0;34m)\u001b[0m\u001b[0;34m\u001b[0m\u001b[0;34m\u001b[0m\u001b[0m\n\u001b[0;32m----> 2\u001b[0;31m \u001b[0mexp_velocity\u001b[0m \u001b[0;34m=\u001b[0m \u001b[0mtotal_velocity_tracer\u001b[0m\u001b[0;34m(\u001b[0m\u001b[0mtracer_positions\u001b[0m\u001b[0;34m,\u001b[0m \u001b[0mstart_points\u001b[0m\u001b[0;34m,\u001b[0m \u001b[0mend_points\u001b[0m\u001b[0;34m,\u001b[0m \u001b[0mcirculations\u001b[0m\u001b[0;34m,\u001b[0m\u001b[0mv\u001b[0m\u001b[0;34m,\u001b[0m \u001b[0mv_inf\u001b[0m\u001b[0;34m=\u001b[0m\u001b[0;36m1\u001b[0m\u001b[0;34m)\u001b[0m\u001b[0;34m\u001b[0m\u001b[0;34m\u001b[0m\u001b[0m\n\u001b[0m",
      "\u001b[0;31mNameError\u001b[0m: name 'circulations' is not defined"
     ]
    }
   ],
   "source": [
    "v=np.zeros(len(tracer_positions),dtype = complex)\n",
    "exp_velocity = total_velocity_tracer(tracer_positions, start_points, end_points, circulations,v, v_inf=1)"
   ]
  },
  {
   "cell_type": "code",
   "execution_count": null,
   "metadata": {},
   "outputs": [],
   "source": []
  },
  {
   "cell_type": "code",
   "execution_count": 23,
   "metadata": {},
   "outputs": [],
   "source": [
    "def error(real_velocity, exp_velocity):\n",
    "    n = len(real_velocity)\n",
    "    s = abs(real_velocity - exp_velocity)/abs(real_velocity)\n",
    "    error = sum(s)*100/n\n",
    "    return error\n",
    "\n",
    "#error calcualtion"
   ]
  },
  {
   "cell_type": "code",
   "execution_count": 24,
   "metadata": {},
   "outputs": [
    {
     "ename": "NameError",
     "evalue": "name 'real_vel' is not defined",
     "output_type": "error",
     "traceback": [
      "\u001b[0;31m---------------------------------------------------------------------------\u001b[0m",
      "\u001b[0;31mNameError\u001b[0m                                 Traceback (most recent call last)",
      "\u001b[0;32m<ipython-input-24-a6dc447798bf>\u001b[0m in \u001b[0;36m<module>\u001b[0;34m\u001b[0m\n\u001b[0;32m----> 1\u001b[0;31m \u001b[0merr\u001b[0m \u001b[0;34m=\u001b[0m \u001b[0merror\u001b[0m\u001b[0;34m(\u001b[0m\u001b[0mreal_vel\u001b[0m\u001b[0;34m,\u001b[0m \u001b[0mexp_velocity\u001b[0m\u001b[0;34m)\u001b[0m\u001b[0;34m\u001b[0m\u001b[0;34m\u001b[0m\u001b[0m\n\u001b[0m",
      "\u001b[0;31mNameError\u001b[0m: name 'real_vel' is not defined"
     ]
    }
   ],
   "source": [
    "err = error(real_vel, exp_velocity)"
   ]
  },
  {
   "cell_type": "code",
   "execution_count": 25,
   "metadata": {},
   "outputs": [
    {
     "ename": "NameError",
     "evalue": "name 'err' is not defined",
     "output_type": "error",
     "traceback": [
      "\u001b[0;31m---------------------------------------------------------------------------\u001b[0m",
      "\u001b[0;31mNameError\u001b[0m                                 Traceback (most recent call last)",
      "\u001b[0;32m<ipython-input-25-ea5d7e39dd60>\u001b[0m in \u001b[0;36m<module>\u001b[0;34m\u001b[0m\n\u001b[0;32m----> 1\u001b[0;31m \u001b[0merr\u001b[0m\u001b[0;34m\u001b[0m\u001b[0;34m\u001b[0m\u001b[0m\n\u001b[0m",
      "\u001b[0;31mNameError\u001b[0m: name 'err' is not defined"
     ]
    }
   ],
   "source": [
    "err"
   ]
  },
  {
   "cell_type": "markdown",
   "metadata": {},
   "source": [
    "Error Trend After Variying R and Number of panels Both"
   ]
  },
  {
   "cell_type": "code",
   "execution_count": 26,
   "metadata": {},
   "outputs": [],
   "source": [
    "error_trend = []\n",
    "# tracer_positions = problem_cylinder(200,2)\n",
    "for i in range(50,151,20):\n",
    "    temp_error = []\n",
    "    for j in range(2,11,2):\n",
    "        temp_tracer_positions = problem_cylinder(200,j)\n",
    "        temp_real_vel = real_velocity(temp_tracer_positions,1,j)\n",
    "        start_points,  end_points = cylinder_panels(i,1)\n",
    "        A = matrix_A(start_points, end_points)\n",
    "        b = matrix_b(start_points, end_points, v_inf = 1)\n",
    "        circulations = solve(A,b)\n",
    "        v=np.zeros(len(temp_tracer_positions),dtype = complex)\n",
    "        exp_velocity = total_velocity_tracer(temp_tracer_positions, start_points, end_points, circulations,v, v_inf=1)\n",
    "        temp_error.append(error(temp_real_vel, exp_velocity))\n",
    "    error_trend.append(temp_error)\n",
    "    \n",
    "    "
   ]
  },
  {
   "cell_type": "code",
   "execution_count": 27,
   "metadata": {},
   "outputs": [],
   "source": [
    "# error_trend"
   ]
  },
  {
   "cell_type": "code",
   "execution_count": 28,
   "metadata": {},
   "outputs": [
    {
     "data": {
      "image/png": "[encoded data removed]",
      "text/plain": [
       "<Figure size 432x288 with 1 Axes>"
      ]
     },
     "metadata": {
      "needs_background": "light"
     },
     "output_type": "display_data"
    }
   ],
   "source": [
    "radius = np.linspace(2,10,5)\n",
    "number_panel = np.linspace(50,150,6)\n",
    "for i in range(len(number_panel)):\n",
    "    plt.plot(radius,error_trend[i],label = number_panel[i])\n",
    "    plt.legend()\n",
    "    plt.xlabel(\"Radius\")\n",
    "    plt.ylabel(\"%error\")\n",
    "    plt.title(\"%error vs radius using constant intensity panel for Different no. of Panels\")"
   ]
  },
  {
   "cell_type": "markdown",
   "metadata": {},
   "source": [
    "# Lineaer Intensity Panel"
   ]
  },
  {
   "cell_type": "code",
   "execution_count": 29,
   "metadata": {},
   "outputs": [],
   "source": [
    "def cylinder_panels(panels, R):\n",
    "    theta = np.linspace(0,2*math.pi,panels+1)\n",
    "    start_points = np.zeros(panels, dtype = complex)\n",
    "    end_points = np.zeros(panels, dtype = complex)\n",
    "    \n",
    "    start_points = np.cos(theta[:-1]) + 1j*np.sin(theta[:-1])\n",
    "    end_points = np.cos(theta[1:]) + 1j*np.sin(theta[1:])\n",
    "    return start_points, end_points\n",
    "\n",
    "\n",
    "#def panels"
   ]
  },
  {
   "cell_type": "code",
   "execution_count": 30,
   "metadata": {},
   "outputs": [],
   "source": [
    "start_points,  end_points = cylinder_panels(100,1)"
   ]
  },
  {
   "cell_type": "code",
   "execution_count": 31,
   "metadata": {},
   "outputs": [],
   "source": [
    "def dot(a,b):\n",
    "    return a.real*b.real + a.imag*b.imag"
   ]
  },
  {
   "cell_type": "code",
   "execution_count": 32,
   "metadata": {},
   "outputs": [],
   "source": [
    "def matrix_A_linear(start_points, end_points):\n",
    "    n = len(start_points)\n",
    "    noraml = 1j*(start_points-end_points)/abs(start_points-end_points)\n",
    "    A = np.zeros((n+1, n))\n",
    "    for i in range(n):\n",
    "        control_point = (end_points[i]+start_points[i])/2\n",
    "        for j in range(n):\n",
    "            panel_vector = end_points[j]-start_points[j]\n",
    "            l = abs(panel_vector)\n",
    "            relative_vector = control_point - start_points[j]\n",
    "            angle_panel = panel_vector/l\n",
    "            conjugate_panel = angle_panel.conjugate()\n",
    "            rva = relative_vector*conjugate_panel\n",
    "            vel1 = -1j*(((rva/l)-1)*(np.log(1-(l/rva)))+1)\n",
    "            vel2 = 1j*((rva/l)*(np.log(1-(l/rva)))+1)\n",
    "            v1 = (vel1.conjugate())*angle_panel\n",
    "            v2 = (vel2.conjugate())*angle_panel\n",
    "            if j!= n-1:\n",
    "                A[i][j]+=dot(v1,noraml[i])\n",
    "                A[i][j+1]+=dot(v2,noraml[i])\n",
    "            elif j == n-1:\n",
    "                A[i][j]+=dot(v1,noraml[i])\n",
    "                A[i][0]+=dot(v2,noraml[i])\n",
    "    A[n]= 1\n",
    "    return A\n",
    "                \n",
    "#matrix A (cofficients of gammas of panels) using standerd formulae"
   ]
  },
  {
   "cell_type": "code",
   "execution_count": 33,
   "metadata": {},
   "outputs": [],
   "source": [
    "def matrix_b(start_points, end_points,velocity_body=0, gammas=0, positions=0, v_inf=0):\n",
    "    n = len(start_points)\n",
    "    v=np.zeros(n, dtype = complex)\n",
    "    normal=np.zeros(n, dtype = complex)\n",
    "    normal = 1j*(start_points-end_points)/abs(start_points-end_points)\n",
    "    for i in range(n):\n",
    "        control_point = (start_points[i]+end_points[i])/2\n",
    "        if gammas !=0:\n",
    "            velocity_due_vortices = velocity_dueto_vortices(control_point,gammas,positions)\n",
    "        else:\n",
    "            velocity_due_vortices = 0\n",
    "        v[i] = velocity_body - v_inf - velocity_due_vortices\n",
    "        b = dot(v,normal)\n",
    "    b= np.append(b,0)\n",
    "    return b\n",
    "        \n",
    "#remain same as in prevoius"
   ]
  },
  {
   "cell_type": "code",
   "execution_count": 34,
   "metadata": {},
   "outputs": [],
   "source": [
    "A_linear = matrix_A_linear(start_points, end_points)\n",
    "b_linear = matrix_b(start_points, end_points, v_inf=1)"
   ]
  },
  {
   "cell_type": "code",
   "execution_count": 35,
   "metadata": {},
   "outputs": [],
   "source": [
    "def solve(A,b):\n",
    "        ans = np.linalg.lstsq(A, b, rcond=None)[0]\n",
    "        return ans"
   ]
  },
  {
   "cell_type": "code",
   "execution_count": 36,
   "metadata": {},
   "outputs": [],
   "source": [
    "circulations_linear = solve(A_linear,b_linear)"
   ]
  },
  {
   "cell_type": "code",
   "execution_count": null,
   "metadata": {},
   "outputs": [],
   "source": []
  },
  {
   "cell_type": "code",
   "execution_count": 37,
   "metadata": {},
   "outputs": [],
   "source": [
    "def velocity_tracer_linear(tracer_position, start_point, end_point, circulation):\n",
    "    panel_vector = end_point-start_point\n",
    "    l = abs(panel_vector)\n",
    "    control_point = (start_point+end_point)/2\n",
    "    relative_vector = tracer_position - start_point\n",
    "    angle_panel = panel_vector/l\n",
    "    conjugate_panel = angle_panel.conjugate()\n",
    "    rva = relative_vector*conjugate_panel\n",
    "    vel1 = -1j*(circulation)*(((rva/l)-1)*(np.log(1-(l/rva)))+1)\n",
    "    vel2 = 1j*(circulation)*((rva/l)*(np.log(1-(l/rva)))+1)\n",
    "    v1 = (vel1.conjugate())*angle_panel\n",
    "    v2 = (vel2.conjugate())*angle_panel\n",
    "    velocity = v1 + v2\n",
    "    return velocity\n",
    "\n",
    "#velocity function of particle outside cylinder using linear intensity panel discretization"
   ]
  },
  {
   "cell_type": "code",
   "execution_count": 38,
   "metadata": {},
   "outputs": [],
   "source": [
    "def total_velocity_tracer_linear(tracer_positions, start_points, end_points, circulations_linear,v,v_inf=0):\n",
    "    for i in range(len(tracer_positions)):\n",
    "        for j in range(len(start_points)):\n",
    "            v[i] += velocity_tracer_linear(tracer_positions[i],start_points[j], end_points[j], circulations_linear[j])\n",
    "        v[i]+= (v_inf + 1j*0)\n",
    "    return v\n",
    "            \n",
    "#velocity of all particles due to all panels, free stream"
   ]
  },
  {
   "cell_type": "code",
   "execution_count": 39,
   "metadata": {},
   "outputs": [],
   "source": [
    "def problem_cylinder(number,R):\n",
    "    theta = np.linspace(0,2*np.pi,number)\n",
    "    tracer_positions = np.zeros(number, dtype = complex)\n",
    "    for i in range(number):\n",
    "        tracer_positions[i] = complex(R*np.cos(theta[i]),R*np.sin(theta[i]))\n",
    "    return tracer_positions\n",
    "    \n",
    "#def points outside the cylinder"
   ]
  },
  {
   "cell_type": "code",
   "execution_count": 40,
   "metadata": {},
   "outputs": [],
   "source": [
    "tracer_positions = problem_cylinder(200,2)\n"
   ]
  },
  {
   "cell_type": "code",
   "execution_count": 41,
   "metadata": {},
   "outputs": [],
   "source": [
    "v=np.zeros(len(tracer_positions),dtype = complex)\n",
    "exp_velocity = total_velocity_tracer_linear(tracer_positions, start_points, end_points, circulations_linear,v, v_inf=1)"
   ]
  },
  {
   "cell_type": "code",
   "execution_count": 42,
   "metadata": {},
   "outputs": [],
   "source": [
    "def error(real_velocity, exp_velocity):\n",
    "    n = len(real_velocity)\n",
    "    s = abs(real_velocity - exp_velocity)/abs(real_velocity)\n",
    "    error = (sum(s)*100)/n\n",
    "    return error\n",
    "\n",
    "#error calculation"
   ]
  },
  {
   "cell_type": "code",
   "execution_count": 43,
   "metadata": {},
   "outputs": [
    {
     "ename": "NameError",
     "evalue": "name 'real_vel' is not defined",
     "output_type": "error",
     "traceback": [
      "\u001b[0;31m---------------------------------------------------------------------------\u001b[0m",
      "\u001b[0;31mNameError\u001b[0m                                 Traceback (most recent call last)",
      "\u001b[0;32m<ipython-input-43-a6dc447798bf>\u001b[0m in \u001b[0;36m<module>\u001b[0;34m\u001b[0m\n\u001b[0;32m----> 1\u001b[0;31m \u001b[0merr\u001b[0m \u001b[0;34m=\u001b[0m \u001b[0merror\u001b[0m\u001b[0;34m(\u001b[0m\u001b[0mreal_vel\u001b[0m\u001b[0;34m,\u001b[0m \u001b[0mexp_velocity\u001b[0m\u001b[0;34m)\u001b[0m\u001b[0;34m\u001b[0m\u001b[0;34m\u001b[0m\u001b[0m\n\u001b[0m",
      "\u001b[0;31mNameError\u001b[0m: name 'real_vel' is not defined"
     ]
    }
   ],
   "source": [
    "err = error(real_vel, exp_velocity)"
   ]
  },
  {
   "cell_type": "code",
   "execution_count": 44,
   "metadata": {},
   "outputs": [
    {
     "ename": "NameError",
     "evalue": "name 'err' is not defined",
     "output_type": "error",
     "traceback": [
      "\u001b[0;31m---------------------------------------------------------------------------\u001b[0m",
      "\u001b[0;31mNameError\u001b[0m                                 Traceback (most recent call last)",
      "\u001b[0;32m<ipython-input-44-ea5d7e39dd60>\u001b[0m in \u001b[0;36m<module>\u001b[0;34m\u001b[0m\n\u001b[0;32m----> 1\u001b[0;31m \u001b[0merr\u001b[0m\u001b[0;34m\u001b[0m\u001b[0;34m\u001b[0m\u001b[0m\n\u001b[0m",
      "\u001b[0;31mNameError\u001b[0m: name 'err' is not defined"
     ]
    }
   ],
   "source": [
    "err\n"
   ]
  },
  {
   "cell_type": "markdown",
   "metadata": {},
   "source": [
    "Error Trend After Variying R and Number of panels Both"
   ]
  },
  {
   "cell_type": "code",
   "execution_count": 45,
   "metadata": {},
   "outputs": [],
   "source": [
    "error_trend_linear = []\n",
    "# tracer_positions = problem_cylinder(200,2)\n",
    "for i in range(50,151,20):\n",
    "    temp_error_linear = []\n",
    "    for j in range(2,11,2):\n",
    "        temp_tracer_positions = problem_cylinder(200,j)\n",
    "        temp_real_vel = real_velocity(temp_tracer_positions,1,j)\n",
    "        start_points,  end_points = cylinder_panels(i,1)\n",
    "        A_linear = matrix_A_linear(start_points, end_points)\n",
    "        b_linear = matrix_b(start_points, end_points, v_inf = 1)\n",
    "        circulations_linear = solve(A_linear,b_linear)\n",
    "        v=np.zeros(len(temp_tracer_positions),dtype = complex)\n",
    "        exp_velocity = total_velocity_tracer_linear(temp_tracer_positions, start_points, end_points, circulations_linear,v, v_inf=1)\n",
    "        temp_error_linear.append(error(temp_real_vel, exp_velocity))\n",
    "    error_trend_linear.append(temp_error_linear)\n",
    "    \n",
    "    "
   ]
  },
  {
   "cell_type": "code",
   "execution_count": 46,
   "metadata": {},
   "outputs": [],
   "source": [
    "# error_trend_linear"
   ]
  },
  {
   "cell_type": "code",
   "execution_count": 47,
   "metadata": {},
   "outputs": [
    {
     "data": {
      "image/png": "[encoded data removed]",
      "text/plain": [
       "<Figure size 432x288 with 1 Axes>"
      ]
     },
     "metadata": {
      "needs_background": "light"
     },
     "output_type": "display_data"
    }
   ],
   "source": [
    "radius = np.linspace(2,10,5)\n",
    "number_panel = np.linspace(50,150,6)\n",
    "for i in range(len(number_panel)):\n",
    "    plt.plot(radius,error_trend_linear[i],label = number_panel[i])\n",
    "    plt.legend()\n",
    "    plt.xlabel(\"Radius\")\n",
    "    plt.ylabel(\"%error\")\n",
    "    plt.title(\"%error vs radius using Linear intensity panel for Different no. of Panels\")"
   ]
  },
  {
   "cell_type": "code",
   "execution_count": null,
   "metadata": {},
   "outputs": [],
   "source": []
  },
  {
   "cell_type": "code",
   "execution_count": null,
   "metadata": {},
   "outputs": [],
   "source": [
    "\n",
    "\n"
   ]
  },
  {
   "cell_type": "code",
   "execution_count": null,
   "metadata": {},
   "outputs": [],
   "source": []
  },
  {
   "cell_type": "markdown",
   "metadata": {},
   "source": [
    "# Path of Vortex "
   ]
  },
  {
   "cell_type": "code",
   "execution_count": null,
   "metadata": {},
   "outputs": [],
   "source": []
  },
  {
   "cell_type": "markdown",
   "metadata": {},
   "source": [
    "1. Using Constant Panel"
   ]
  },
  {
   "cell_type": "code",
   "execution_count": 48,
   "metadata": {},
   "outputs": [],
   "source": [
    "def euler(tracer_positions, start_points, end_points, circulations, dt):\n",
    "    new_positions = np.zeros(shape=(len(tracer_positions)),dtype=complex)\n",
    "    v=np.zeros(len(tracer_positions),dtype=complex)\n",
    "    velocity = total_velocity_tracer(tracer_positions, start_points, end_points, circulations,v )\n",
    "    for i in range(len(tracer_positions)):\n",
    "        new_positions[i] = tracer_positions[i] + velocity[i]*dt\n",
    "    return new_positions"
   ]
  },
  {
   "cell_type": "code",
   "execution_count": 49,
   "metadata": {},
   "outputs": [],
   "source": [
    "def RK2(tracer_positions, start_points, end_points, circulations, dt):\n",
    "    new_positions = np.zeros(shape=(len(tracer_positions)),dtype=complex)\n",
    "    v=np.zeros(len(tracer_positions),dtype=complex)\n",
    "    vi = total_velocity_tracer(tracer_positions,start_points, end_points,circulations, v)\n",
    "    temp_positions = euler(tracer_positions, start_points, end_points, circulations, dt)\n",
    "    vi1 = total_velocity_tracer(temp_positions, start_points, end_points, circulations,v)\n",
    "    for i in range(len(tracer_positions)):\n",
    "        new_positions[i] = tracer_positions[i] + (vi[i]+vi1[i])*dt/2\n",
    "    return new_positions"
   ]
  },
  {
   "cell_type": "code",
   "execution_count": 50,
   "metadata": {},
   "outputs": [],
   "source": [
    "start_points,  end_points = cylinder_panels(100,1)"
   ]
  },
  {
   "cell_type": "code",
   "execution_count": 51,
   "metadata": {},
   "outputs": [],
   "source": [
    "A_voretx = matrix_A(start_points, end_points)"
   ]
  },
  {
   "cell_type": "code",
   "execution_count": 52,
   "metadata": {},
   "outputs": [],
   "source": [
    "gammas = np.array([2*np.pi])\n",
    "positions = np.array([1.5*np.cos(np.pi/4)+1j*(1.5*np.sin(np.pi/4))])"
   ]
  },
  {
   "cell_type": "code",
   "execution_count": 53,
   "metadata": {},
   "outputs": [],
   "source": [
    "b_vortex = matrix_b(start_points, end_points,gammas= gammas, positions=positions)"
   ]
  },
  {
   "cell_type": "code",
   "execution_count": 54,
   "metadata": {},
   "outputs": [],
   "source": [
    "circulations_vortex = solve(A_voretx, b_vortex)"
   ]
  },
  {
   "cell_type": "code",
   "execution_count": null,
   "metadata": {},
   "outputs": [],
   "source": []
  },
  {
   "cell_type": "code",
   "execution_count": 55,
   "metadata": {},
   "outputs": [],
   "source": [
    "def integrate(tracer_positions, circulations, start_points, end_points,steps, dt, method=1):\n",
    "    data = []\n",
    "    data.append(tracer_positions)\n",
    "    temp_positions = tracer_positions\n",
    "    if method == 1 :\n",
    "        for i in range(1,steps,1):\n",
    "            new_positions = RK2(temp_positions, start_points, end_points, circulations, dt)\n",
    "             #print(new_positions)\n",
    "            data.append(new_positions)\n",
    "            temp_positions = new_positions\n",
    "            A_voretx = matrix_A(start_points, end_points)\n",
    "            gammas = np.array([2*np.pi])\n",
    "            b_vortex = matrix_b(start_points, end_points,gammas= gammas, positions=temp_positions)\n",
    "            circulations = solve(A_voretx, b_vortex)\n",
    "\n",
    "    return data   \n",
    "    \n",
    "    "
   ]
  },
  {
   "cell_type": "code",
   "execution_count": 56,
   "metadata": {},
   "outputs": [],
   "source": [
    "data = integrate(positions, circulations_vortex, start_points, end_points,100,0.01)"
   ]
  },
  {
   "cell_type": "code",
   "execution_count": 57,
   "metadata": {},
   "outputs": [],
   "source": [
    "eta=np.linspace(0,2*np.pi,100)\n",
    "p=np.cos(eta)\n",
    "q=np.sin(eta)"
   ]
  },
  {
   "cell_type": "code",
   "execution_count": 58,
   "metadata": {},
   "outputs": [
    {
     "data": {
      "image/png": "[encoded data removed]",
      "text/plain": [
       "<Figure size 432x288 with 1 Axes>"
      ]
     },
     "metadata": {
      "needs_background": "light"
     },
     "output_type": "display_data"
    }
   ],
   "source": [
    "plt.scatter(np.array(data).real, np.array(data).imag)\n",
    "plt.plot(p,q)\n",
    "plt.xlabel(\"X-coordiante\")\n",
    "plt.ylabel(\"Y-coordiante\")\n",
    "plt.title(\"Path of single vortexusing constant intensity panel\")\n",
    "plt.savefig(\"vcip\")"
   ]
  },
  {
   "cell_type": "markdown",
   "metadata": {},
   "source": [
    "2   Using Linear Intensity Panels"
   ]
  },
  {
   "cell_type": "code",
   "execution_count": 59,
   "metadata": {},
   "outputs": [],
   "source": [
    "b_vortex_linear = matrix_b(start_points, end_points,gammas= gammas, positions=positions)"
   ]
  },
  {
   "cell_type": "code",
   "execution_count": 60,
   "metadata": {},
   "outputs": [],
   "source": [
    "A_voretx_linear = matrix_A_linear(start_points, end_points)"
   ]
  },
  {
   "cell_type": "code",
   "execution_count": 61,
   "metadata": {},
   "outputs": [],
   "source": [
    "circulations_vortex_linear = solve(A_voretx, b_vortex)"
   ]
  },
  {
   "cell_type": "code",
   "execution_count": 62,
   "metadata": {},
   "outputs": [],
   "source": [
    "def euler_linear(tracer_positions, start_points, end_points, circulations, dt):\n",
    "    new_positions = np.zeros(shape=(len(tracer_positions)),dtype=complex)\n",
    "    v=np.zeros(len(tracer_positions),dtype=complex)\n",
    "    velocity = total_velocity_tracer_linear(tracer_positions, start_points, end_points, circulations,v )\n",
    "    for i in range(len(tracer_positions)):\n",
    "        new_positions[i] = tracer_positions[i] + velocity[i]*dt\n",
    "    return new_positions\n",
    "\n",
    "def RK2_linear(tracer_positions, start_points, end_points, circulations, dt):\n",
    "    new_positions = np.zeros(shape=(len(tracer_positions)),dtype=complex)\n",
    "    v=np.zeros(len(tracer_positions),dtype=complex)\n",
    "    vi = total_velocity_tracer_linear(tracer_positions,start_points, end_points,circulations, v)\n",
    "    temp_positions = euler_linear(tracer_positions, start_points, end_points, circulations, dt)\n",
    "    vi1 = total_velocity_tracer_linear(temp_positions, start_points, end_points, circulations,v)\n",
    "    for i in range(len(tracer_positions)):\n",
    "        new_positions[i] = tracer_positions[i] + (vi[i]+vi1[i])*dt/2\n",
    "    return new_positions"
   ]
  },
  {
   "cell_type": "code",
   "execution_count": null,
   "metadata": {},
   "outputs": [],
   "source": []
  },
  {
   "cell_type": "code",
   "execution_count": 63,
   "metadata": {},
   "outputs": [],
   "source": [
    "def integrate(tracer_positions, circulations, start_points, end_points,steps, dt, method=1):\n",
    "    data = []\n",
    "    data.append(tracer_positions)\n",
    "    temp_positions = tracer_positions\n",
    "    if method == 1 :\n",
    "        for i in range(1,steps,1):\n",
    "            new_positions = RK2_linear(temp_positions, start_points, end_points, circulations, dt)\n",
    "             #print(new_positions)\n",
    "            data.append(new_positions)\n",
    "            temp_positions = new_positions\n",
    "            A_voretx = matrix_A_linear(start_points, end_points)\n",
    "            gammas = np.array([2*np.pi])\n",
    "            b_vortex = matrix_b(start_points, end_points,gammas= gammas, positions=temp_positions)\n",
    "            circulations = solve(A_voretx, b_vortex)\n",
    "    return data   \n",
    "    \n",
    "    "
   ]
  },
  {
   "cell_type": "code",
   "execution_count": 64,
   "metadata": {},
   "outputs": [],
   "source": [
    "data_linear = integrate(positions, circulations_vortex_linear, start_points, end_points,100,0.01)"
   ]
  },
  {
   "cell_type": "code",
   "execution_count": 65,
   "metadata": {},
   "outputs": [
    {
     "data": {
      "image/png": "[encoded data removed]",
      "text/plain": [
       "<Figure size 432x288 with 1 Axes>"
      ]
     },
     "metadata": {
      "needs_background": "light"
     },
     "output_type": "display_data"
    }
   ],
   "source": [
    "plt.scatter(np.array(data_linear).real, np.array(data_linear).imag)\n",
    "plt.plot(p,q)\n",
    "plt.xlabel(\"X-coordiante\")\n",
    "plt.ylabel(\"Y-coordiante\")\n",
    "plt.title(\"Path of single vortexusing Linear intensity panel\")\n",
    "plt.savefig(\"vlip\")"
   ]
  },
  {
   "cell_type": "code",
   "execution_count": 66,
   "metadata": {},
   "outputs": [],
   "source": [
    "diff  = sum(((np.abs((np.array(data_linear)-np.array(data)))/np.abs(np.array(data_linear)))))"
   ]
  },
  {
   "cell_type": "code",
   "execution_count": 67,
   "metadata": {},
   "outputs": [
    {
     "data": {
      "text/plain": [
       "array([6.4291549])"
      ]
     },
     "execution_count": 67,
     "metadata": {},
     "output_type": "execute_result"
    }
   ],
   "source": [
    "diff                                         #percentage difference between using method linear vs constant \n",
    "                                               # intensity panel"
   ]
  },
  {
   "cell_type": "code",
   "execution_count": null,
   "metadata": {},
   "outputs": [],
   "source": []
  },
  {
   "cell_type": "code",
   "execution_count": null,
   "metadata": {},
   "outputs": [],
   "source": []
  },
  {
   "cell_type": "markdown",
   "metadata": {},
   "source": [
    "3 Using the image Method"
   ]
  },
  {
   "cell_type": "code",
   "execution_count": 68,
   "metadata": {},
   "outputs": [],
   "source": [
    "gamma = np.array([2*np.pi,2*np.pi,-2*np.pi])"
   ]
  },
  {
   "cell_type": "code",
   "execution_count": 69,
   "metadata": {},
   "outputs": [],
   "source": [
    "def reflected_pos(a,z):\n",
    "    pos = a**2/(z.conjugate())\n",
    "    return pos\n",
    "    "
   ]
  },
  {
   "cell_type": "code",
   "execution_count": 70,
   "metadata": {},
   "outputs": [],
   "source": [
    "@numba.njit\n",
    "def get_velocity(circulation, self_position, other_position):       #velocity due to point vortices\n",
    "    v_conjugate = complex(0,-1)*(circulation)/(2*(np.pi)*(self_position-other_position))\n",
    "    velocity  = v_conjugate.conjugate()\n",
    "    return velocity"
   ]
  },
  {
   "cell_type": "code",
   "execution_count": 71,
   "metadata": {},
   "outputs": [],
   "source": [
    "@numba.njit\n",
    "def total_velocity(gamma, all_positions,v):                          #velocity of all vortices due to others\n",
    "    for i in range(len(gamma)):\n",
    "        for j in range(len(gamma)):\n",
    "            if i!=j:\n",
    "                v[i] += get_velocity(gamma[j],all_positions[i],all_positions[j])\n",
    "    return v"
   ]
  },
  {
   "cell_type": "code",
   "execution_count": 72,
   "metadata": {},
   "outputs": [],
   "source": [
    "initial_position = np.array([1.5*np.cos(np.pi/4)+1j*(1.5*np.sin(np.pi/4))])"
   ]
  },
  {
   "cell_type": "code",
   "execution_count": 73,
   "metadata": {},
   "outputs": [],
   "source": [
    "positions = np.array([initial_position[0],complex(0,0),reflected_pos(1,initial_position[0])])"
   ]
  },
  {
   "cell_type": "code",
   "execution_count": 74,
   "metadata": {},
   "outputs": [],
   "source": [
    "def euler(gamma, all_positions, dt):                            #euler function for position update\n",
    "    new_positions = np.zeros(shape=(len(gamma)),dtype=complex)\n",
    "    v=np.zeros(len(gamma),dtype=complex)\n",
    "    velocity = total_velocity(gamma, all_positions,v)\n",
    "    for i in range(len(gamma)):\n",
    "        new_positions[i] = all_positions[i] + velocity[i]*dt\n",
    "    x= np.array([new_positions[0], complex(0,0,),reflected_pos(1,initial_position[0])])\n",
    "    return x\n",
    "\n",
    "def RK2(gamma, all_positions, dt):                              #RK2 for position update\n",
    "    new_positions = np.zeros(shape=(len(gamma)),dtype=complex)\n",
    "    v=np.zeros(len(gamma),dtype=complex)\n",
    "    vi = total_velocity(gamma, all_positions,v)\n",
    "    temp_positions = euler(gamma, all_positions, dt)\n",
    "    vi1 = total_velocity(gamma, temp_positions,v)\n",
    "    for i in range(len(gamma)):\n",
    "        new_positions[i] = all_positions[i] + (vi[i]+vi1[i])*dt/2\n",
    "    return new_positions\n"
   ]
  },
  {
   "cell_type": "code",
   "execution_count": 75,
   "metadata": {},
   "outputs": [],
   "source": [
    "def integrate(gamma, all_positions, n, dt, method):             #integrater for RK2 And Euler \n",
    "                                                                #merthod =1 for RK2 AND 2 for Euler\n",
    "    data = []                                                   #gamma and all_positions are vorticity and \n",
    "                                                                #positions of all point vortices\n",
    "    data.append(all_positions[0])                                  #dt is time step, n = number of steps\n",
    "    temp_positions = all_positions\n",
    "    if method==1 :\n",
    "        for i in range(1,n,1):\n",
    "            new_positions = RK2(gamma,temp_positions, dt)\n",
    "            data.append(new_positions[0])\n",
    "            temp_positions = np.array([new_positions[0], complex(0,0,),reflected_pos(1,new_positions[0])])\n",
    "    return data"
   ]
  },
  {
   "cell_type": "code",
   "execution_count": 76,
   "metadata": {},
   "outputs": [],
   "source": [
    "data_image = integrate(gamma, positions,100,0.01,1)"
   ]
  },
  {
   "cell_type": "code",
   "execution_count": null,
   "metadata": {},
   "outputs": [],
   "source": []
  },
  {
   "cell_type": "code",
   "execution_count": 77,
   "metadata": {},
   "outputs": [
    {
     "data": {
      "image/png": "[encoded data removed]",
      "text/plain": [
       "<Figure size 432x288 with 1 Axes>"
      ]
     },
     "metadata": {
      "needs_background": "light"
     },
     "output_type": "display_data"
    }
   ],
   "source": [
    "plt.scatter(np.array(data_image).real, np.array(data_image).imag)\n",
    "plt.plot(p,q)\n",
    "plt.xlabel(\"X-coordiante\")\n",
    "plt.ylabel(\"Y-coordiante\")\n",
    "plt.title(\"Path of single vortex using Method of Images\")\n",
    "plt.savefig(\"vmoi\")"
   ]
  },
  {
   "cell_type": "code",
   "execution_count": null,
   "metadata": {},
   "outputs": [],
   "source": []
  },
  {
   "cell_type": "code",
   "execution_count": 78,
   "metadata": {},
   "outputs": [],
   "source": [
    "d=np.reshape(data_image,(100,1))"
   ]
  },
  {
   "cell_type": "code",
   "execution_count": 79,
   "metadata": {},
   "outputs": [
    {
     "data": {
      "text/plain": [
       "array([8.36077434])"
      ]
     },
     "execution_count": 79,
     "metadata": {},
     "output_type": "execute_result"
    }
   ],
   "source": [
    "sum(abs(d-data_linear)/abs(d))                             #percentage error with linear intensity panel vs image method"
   ]
  },
  {
   "cell_type": "code",
   "execution_count": 80,
   "metadata": {},
   "outputs": [
    {
     "data": {
      "image/png": "[encoded data removed]",
      "text/plain": [
       "<Figure size 432x288 with 1 Axes>"
      ]
     },
     "metadata": {
      "needs_background": "light"
     },
     "output_type": "display_data"
    }
   ],
   "source": [
    "data_image1 = integrate(gamma, positions,10000,0.01,1)\n",
    "plt.plot(np.array(data_image1).real, np.array(data_image1).imag,\"b.\")\n",
    "plt.plot(p,q)\n",
    "plt.xlabel(\"X-coordiante\")\n",
    "plt.ylabel(\"Y-coordiante\")\n",
    "plt.title(\"Path of single vortex using Method of Images\")\n",
    "plt.savefig(\"vmoi1\")"
   ]
  },
  {
   "cell_type": "code",
   "execution_count": null,
   "metadata": {},
   "outputs": [],
   "source": []
  },
  {
   "cell_type": "code",
   "execution_count": null,
   "metadata": {},
   "outputs": [],
   "source": []
  },
  {
   "cell_type": "code",
   "execution_count": null,
   "metadata": {},
   "outputs": [],
   "source": []
  },
  {
   "cell_type": "code",
   "execution_count": null,
   "metadata": {},
   "outputs": [],
   "source": []
  }
 ],
 "metadata": {
  "kernelspec": {
   "display_name": "Python 3",
   "language": "python",
   "name": "python3"
  },
  "language_info": {
   "codemirror_mode": {
    "name": "ipython",
    "version": 3
   },
   "file_extension": ".py",
   "mimetype": "text/x-python",
   "name": "python",
   "nbconvert_exporter": "python",
   "pygments_lexer": "ipython3",
   "version": "3.6.9"
  }
 },
 "nbformat": 4,
 "nbformat_minor": 2
}
